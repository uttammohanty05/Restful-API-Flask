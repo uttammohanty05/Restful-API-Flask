{
  "nbformat": 4,
  "nbformat_minor": 0,
  "metadata": {
    "colab": {
      "provenance": []
    },
    "kernelspec": {
      "name": "python3",
      "display_name": "Python 3"
    },
    "language_info": {
      "name": "python"
    }
  },
  "cells": [
    {
      "cell_type": "markdown",
      "source": [
        "THEORETICAL QUESTION"
      ],
      "metadata": {
        "id": "RTBHb2TZ1Vl8"
      }
    },
    {
      "cell_type": "markdown",
      "source": [
        "01. What is a RESTful API ?"
      ],
      "metadata": {
        "id": "8g5K_9JK1mLa"
      }
    },
    {
      "cell_type": "markdown",
      "source": [
        "Ans:- A **RESTful API** (Representational State Transfer API) is a web service that enables applications to communicate over the internet using standard HTTP methods like GET, POST, PUT, and DELETE. It adheres to principles such as statelessness, scalability, and a uniform interface, making it a popular choice for building web services and integrating systems.\n",
        "\n"
      ],
      "metadata": {
        "id": "RNTCsMwf1sqi"
      }
    },
    {
      "cell_type": "markdown",
      "source": [
        "02. Explain the concept of API specification"
      ],
      "metadata": {
        "id": "BYJ_xsjK2Hsz"
      }
    },
    {
      "cell_type": "markdown",
      "source": [
        "Ans:- An **API specification** is a detailed document that defines how an API works. It outlines the endpoints, request/response formats, data types, authentication methods, and error handling. Think of it as a blueprint that helps developers understand how to use or build the API correctly and consistently.\n"
      ],
      "metadata": {
        "id": "h2LkQ1GD2Kfq"
      }
    },
    {
      "cell_type": "markdown",
      "source": [
        "03.  What is Flask, and why is it popular for building APIs ?"
      ],
      "metadata": {
        "id": "1Bd9OGZz2WzB"
      }
    },
    {
      "cell_type": "markdown",
      "source": [
        "Ans:- **Flask** is a lightweight Python web framework used to build web applications and APIs. It's popular for API development because it's:\n",
        "\n",
        "* **Simple and flexible** – minimal setup with lots of customization.\n",
        "* **Lightweight** – includes only what you need to get started.\n",
        "* **Extensible** – supports many plugins and libraries.\n",
        "* **Great for beginners and pros** – easy to learn and powerful for advanced use.\n",
        "\n",
        "\n"
      ],
      "metadata": {
        "id": "-VCg-F8F2aza"
      }
    },
    {
      "cell_type": "markdown",
      "source": [
        "04. What is routing in Flask ?"
      ],
      "metadata": {
        "id": "xJwZf65m2lny"
      }
    },
    {
      "cell_type": "markdown",
      "source": [
        "Ans:- Routing in Flask is the process of mapping URLs to specific functions in your code. These functions (called view functions) handle requests to a particular route."
      ],
      "metadata": {
        "id": "6MAAf3Hh2pny"
      }
    },
    {
      "cell_type": "markdown",
      "source": [
        "05. How do you create a simple Flask application ?"
      ],
      "metadata": {
        "id": "WqA1Qzos2ywh"
      }
    },
    {
      "cell_type": "markdown",
      "source": [
        "Ans:- A **simple Flask application** is created by:\n",
        "\n",
        "1. **Importing Flask**: You begin by importing the Flask class from the `flask` module.\n",
        "\n",
        "2. **Creating an application instance**: You create an instance of the Flask class, which acts as the central object for your web application.\n",
        "\n",
        "3. **Defining routes**: Using the `@app.route()` decorator, you define URL routes and link them to view functions that return responses (like text or HTML).\n",
        "\n",
        "4. **Running the application**: You use `app.run()` to start the development server, allowing the application to handle incoming web requests.\n",
        "\n",
        "\n"
      ],
      "metadata": {
        "id": "Zk8ESfxr22fp"
      }
    },
    {
      "cell_type": "markdown",
      "source": [
        "06. What are HTTP methods used in RESTful APIs ?"
      ],
      "metadata": {
        "id": "W6UygCXQ3C-p"
      }
    },
    {
      "cell_type": "markdown",
      "source": [
        "Ans:- In RESTful APIs, **HTTP methods** define the type of operation performed on a resource. The main methods are:\n",
        "\n",
        "1. **GET** – Retrieves data from the server (read-only).\n",
        "2. **POST** – Sends data to the server to create a new resource.\n",
        "3. **PUT** – Updates an existing resource completely.\n",
        "4. **PATCH** – Partially updates an existing resource.\n",
        "5. **DELETE** – Removes a resource from the server.\n",
        "\n",
        "\n"
      ],
      "metadata": {
        "id": "bFcKQbBC3OPw"
      }
    },
    {
      "cell_type": "markdown",
      "source": [
        "07. What is the purpose of the @app.route() decorator in Flask ?"
      ],
      "metadata": {
        "id": "O4RrhHv63RUx"
      }
    },
    {
      "cell_type": "markdown",
      "source": [
        "Ans:- The **@app.route()** decorator in Flask is used to **link a URL path to a specific function**. It tells Flask which function to run when a user visits a particular route (URL).\n",
        "\n",
        "\n"
      ],
      "metadata": {
        "id": "-AaOtsLt3U5I"
      }
    },
    {
      "cell_type": "markdown",
      "source": [
        "08. What is the difference between GET and POST HTTP methods ?"
      ],
      "metadata": {
        "id": "z3y1GMos3cWJ"
      }
    },
    {
      "cell_type": "markdown",
      "source": [
        "Ans:- The difference between **GET** and **POST** HTTP methods:\n",
        "\n",
        "* **GET**:\n",
        "\n",
        "  * Retrieves data from the server.\n",
        "  * Data is sent in the URL (query string), visible and limited in size.\n",
        "  * Used for fetching or reading resources.\n",
        "\n",
        "* **POST**:\n",
        "\n",
        "  * Sends data to the server to create or update a resource.\n",
        "  * Data is sent in the body of the request, not visible, and can handle larger amounts of data.\n",
        "  * Used for submitting forms or uploading data.\n"
      ],
      "metadata": {
        "id": "vHL-jVSF3fPY"
      }
    },
    {
      "cell_type": "markdown",
      "source": [
        "09.  How do you handle errors in Flask APIs ?"
      ],
      "metadata": {
        "id": "ofp9g99-3o3Y"
      }
    },
    {
      "cell_type": "markdown",
      "source": [
        "Ans:- In Flask, error handling is a crucial part of building robust applications, ensuring that the application responds appropriately to unexpected conditions. Flask provides several ways to handle errors:\n",
        "\n",
        "1. **Error Handlers**: Flask allows you to define custom error handlers for specific HTTP error codes (e.g., 404 for \"Not Found\", 500 for \"Internal Server Error\"). By using the `@app.errorhandler()` decorator, you can catch errors globally and provide custom responses, such as a friendly error message or a redirect.\n",
        "\n",
        "2. **Raising Errors**: You can manually raise errors in your routes using the `abort()` function. This is useful when a specific condition in the application isn't met (e.g., invalid input or unauthorized access). When an error is raised, Flask will automatically trigger the relevant error handler.\n",
        "\n",
        "3. **Custom Error Responses**: Flask supports returning custom error messages, often in formats like JSON, which is especially useful for APIs. This allows you to provide detailed information about what went wrong, such as the error type and the reason, helping clients to understand the issue better.\n",
        "\n",
        "Overall, error handling in Flask ensures that your application behaves predictably and provides meaningful responses to clients in case of issues, improving both the stability and user experience of the application.\n"
      ],
      "metadata": {
        "id": "TDthvdsa3sJY"
      }
    },
    {
      "cell_type": "markdown",
      "source": [
        "10.  How do you connect Flask to a SQL database /"
      ],
      "metadata": {
        "id": "fFxmrtsJ4my_"
      }
    },
    {
      "cell_type": "markdown",
      "source": [
        "Ans:- To connect Flask to a SQL database, you typically use an ORM (Object-Relational Mapper) like **SQLAlchemy**, which allows you to interact with the database using Python classes instead of writing raw SQL queries. The process involves several steps:\n",
        "\n",
        "1. **Install SQLAlchemy**: First, you install SQLAlchemy or a database-specific connector (such as `flask-sqlalchemy`) to enable Flask to communicate with the SQL database.\n",
        "\n",
        "2. **Configure Database URI**: In your Flask application’s configuration, you specify the URI (Uniform Resource Identifier) that points to your SQL database. This URI contains details like the database type, username, password, and database name.\n",
        "\n",
        "3. **Initialize the Database**: You create an instance of SQLAlchemy, which is then linked to your Flask app. This object is responsible for handling interactions with the database.\n",
        "\n",
        "4. **Define Models**: In Flask, database tables are defined as Python classes (models). Each class represents a table, and its attributes represent the columns in the table. These classes inherit from `db.Model` and are used to define the structure of the database.\n",
        "\n",
        "5. **Create Tables**: After defining your models, you use SQLAlchemy’s methods to create the corresponding tables in the database.\n",
        "\n",
        "By following this process, Flask is able to interact with a SQL database, enabling you to perform operations like querying, inserting, updating, and deleting data using Python code.\n"
      ],
      "metadata": {
        "id": "a-5ssKMu4rLn"
      }
    },
    {
      "cell_type": "markdown",
      "source": [
        "11. What is the role of Flask-SQLAlchemy ?"
      ],
      "metadata": {
        "id": "S_ZFp9mD1Urr"
      }
    },
    {
      "cell_type": "markdown",
      "source": [
        "Ans:- **Flask-SQLAlchemy** is a Flask extension that simplifies using **SQLAlchemy** with Flask applications. SQLAlchemy is a powerful ORM (Object-Relational Mapper) for Python that allows you to interact with relational databases using Python objects instead of writing raw SQL queries.\n",
        "\n",
        "Flask-SQLAlchemy handles tasks like:\n",
        "\n",
        "* **Configuration**: It simplifies configuring the connection to the SQL database.\n",
        "* **Model Definition**: You define database tables as Python classes (models), where each class corresponds to a table and its attributes correspond to columns.\n",
        "* **Querying**: It provides an intuitive API for querying, inserting, updating, and deleting data.\n",
        "* **Session Management**: It manages database sessions and connections automatically, ensuring that transactions are handled properly.\n",
        "\n",
        "\n"
      ],
      "metadata": {
        "id": "R_Gho12t5SsG"
      }
    },
    {
      "cell_type": "markdown",
      "source": [
        "12. What are Flask blueprints, and how are they useful ?"
      ],
      "metadata": {
        "id": "fbbv0m8r5ehe"
      }
    },
    {
      "cell_type": "markdown",
      "source": [
        "Ans:- **Flask Blueprints** are a design pattern used in Flask to organize and structure larger applications by splitting them into smaller, reusable components. A blueprint in Flask allows you to define routes, views, and other functionalities independently from the main application.\n",
        "\n",
        "Blueprits are useful because:\n",
        "\n",
        "1. **Modularity**: They help break down a large application into smaller, self-contained parts (e.g., user management, admin dashboard) for better maintainability and readability.\n",
        "2. **Reusability**: Blueprints can be reused across different Flask applications, reducing code duplication.\n",
        "3. **Separation of Concerns**: They allow you to separate different functionalities of your application into different files and modules, keeping your code organized.\n",
        "4. **Easy Integration**: Blueprints can be registered with the main Flask app, making it easier to scale and manage complex projects.\n",
        "\n",
        "\n"
      ],
      "metadata": {
        "id": "hHqmBkte6Qzt"
      }
    },
    {
      "cell_type": "markdown",
      "source": [
        "13. What is the purpose of Flask's request object ?\n"
      ],
      "metadata": {
        "id": "2YcL78rU6jg1"
      }
    },
    {
      "cell_type": "markdown",
      "source": [
        "ANS:- The **Flask `request` object** is an essential part of Flask’s request-response cycle. It represents the HTTP request made by the client to the Flask application, providing access to various components of the request.\n",
        "\n",
        "Key purposes of the `request` object include:\n",
        "\n",
        "1. **Accessing Form Data**: It allows you to retrieve form data sent via **POST** requests using `request.form`.\n",
        "2. **Query Parameters**: You can access query parameters from the URL using `request.args` for **GET** requests.\n",
        "3. **Request Headers**: It provides access to request headers, such as `Content-Type` or authentication tokens, using `request.headers`.\n",
        "4. **Uploaded Files**: You can manage file uploads through `request.files`.\n",
        "5. **Request Method**: It helps identify the HTTP method used (GET, POST, etc.) with `request.method`.\n",
        "\n"
      ],
      "metadata": {
        "id": "WJcHV95l6pdt"
      }
    },
    {
      "cell_type": "markdown",
      "source": [
        "14.  How do you create a RESTful API endpoint using Flask ?"
      ],
      "metadata": {
        "id": "w1DOvk1Y637V"
      }
    },
    {
      "cell_type": "markdown",
      "source": [
        "aAns:- To create a RESTful API endpoint in Flask:\n",
        "\n",
        "1. **Import Flask** and **create an app instance**.\n",
        "2. Use the `@app.route()` decorator to define a route and specify the HTTP method (GET, POST, etc.).\n",
        "3. Define a **view function** to handle the request and return a response (often in JSON format).\n",
        "\n",
        "\n",
        "\n"
      ],
      "metadata": {
        "id": "gZqphxQb69RV"
      }
    },
    {
      "cell_type": "markdown",
      "source": [
        "15. What is the purpose of Flask's jsonify() function ?"
      ],
      "metadata": {
        "id": "w_fvtnp77TG8"
      }
    },
    {
      "cell_type": "markdown",
      "source": [
        "Ans:- The **`jsonify()`** function in Flask is used to convert Python data (like dictionaries or lists) into **JSON format** and return it as a **response** with the correct `Content-Type` header (`application/json`). It's commonly used in RESTful APIs to send JSON responses to clients.\n"
      ],
      "metadata": {
        "id": "sTlugiTT7YSc"
      }
    },
    {
      "cell_type": "markdown",
      "source": [
        "16.  Explain Flask’s url_for() function."
      ],
      "metadata": {
        "id": "ubTQq2t-7eSs"
      }
    },
    {
      "cell_type": "markdown",
      "source": [
        "Ans:- The **`url_for()`** function in Flask is used to dynamically generate URLs for specific routes based on the name of the view function. Instead of hardcoding URLs directly in your application, `url_for()` allows you to reference a function’s name and generate the correct URL, making your code more flexible and maintainable.\n",
        "\n",
        "### Purpose and Benefits:\n",
        "\n",
        "1. **Avoids Hardcoding URLs**: Using `url_for()` ensures that URLs are always generated based on the route function name, which is especially helpful if routes change in the future.\n",
        "2. **Dynamic URL Generation**: It can automatically handle URL generation, including dynamic URL parameters (like query parameters or path variables).\n",
        "3. **Supports Reverse URL Lookup**: `url_for()` helps when creating links for things like forms, redirects, or templates without needing to manually specify URLs.\n",
        "\n",
        "\n"
      ],
      "metadata": {
        "id": "37Co2a6o7jn8"
      }
    },
    {
      "cell_type": "markdown",
      "source": [
        "17. How does Flask handle static files (CSS, JavaScript, etc.)?"
      ],
      "metadata": {
        "id": "qaezzTM88BKM"
      }
    },
    {
      "cell_type": "markdown",
      "source": [
        "Ans:- Flask automatically serves static files from the **`static`** folder, and you can reference these files in your templates using `url_for('static', filename='...')`. This helps keep the organization of static assets simple and ensures they are properly served to the client.\n"
      ],
      "metadata": {
        "id": "C6WSM4wP77vU"
      }
    },
    {
      "cell_type": "markdown",
      "source": [
        "18. What is an API specification, and how does it help in building a Flask API ?"
      ],
      "metadata": {
        "id": "x72lNs9A8cUL"
      }
    },
    {
      "cell_type": "markdown",
      "source": [
        "Ansa:- An **API specification** is a detailed document or standard that defines the structure, endpoints, request/response formats, authentication, and other behaviors of an API. It helps developers understand how to interact with the API and what to expect from it.\n",
        "\n",
        "### How it helps in building a Flask API:\n",
        "\n",
        "* **Defines Endpoints and Methods**: It outlines which routes (URLs) are available, the HTTP methods (GET, POST, etc.) they support, and the actions they perform.\n",
        "* **Clarifies Data Formats**: Specifies the format for requests and responses (e.g., JSON), ensuring consistent communication between clients and the server.\n",
        "* **Improves Collaboration**: Provides a clear contract for both frontend and backend developers to follow, reducing misunderstandings.\n",
        "* **Aids Testing and Documentation**: The specification serves as a reference for automated tests and documentation tools.\n",
        "\n",
        "\n"
      ],
      "metadata": {
        "id": "OJcGgDx48hkr"
      }
    },
    {
      "cell_type": "markdown",
      "source": [
        "19. What are HTTP status codes, and why are they important in a Flask API ?"
      ],
      "metadata": {
        "id": "4kFQJbXo8prj"
      }
    },
    {
      "cell_type": "markdown",
      "source": [
        "Ans:- **HTTP status codes** are numerical codes returned by the server to indicate the result of an HTTP request. They help clients understand whether a request was successful, redirected, or encountered an error.\n",
        "\n",
        "### Importance in a Flask API:\n",
        "\n",
        "* **Indicates Success or Failure**: Status codes like 200 (OK) and 201 (Created) show successful requests, while 400 (Bad Request) and 404 (Not Found) indicate errors.\n",
        "* **Helps Debugging**: They provide feedback to both developers and users about the outcome of a request.\n",
        "* **Standardizes Communication**: Ensures consistent handling of API responses across different clients and servers.\n",
        "\n"
      ],
      "metadata": {
        "id": "JBAlAyDc8xZz"
      }
    },
    {
      "cell_type": "markdown",
      "source": [
        "20. How do you handle POST requests in Flask ?"
      ],
      "metadata": {
        "id": "RU-R9C4N9FuK"
      }
    },
    {
      "cell_type": "markdown",
      "source": [
        "Ans:- To handle **POST requests** in Flask:\n",
        "\n",
        "1. **Define a Route**: Use `@app.route()` with the `methods=['POST']` argument to specify that the route should accept POST requests.\n",
        "\n",
        "2. **Access Data**: Use `request.form` (for form data) or `request.json` (for JSON data) to access the data sent in the POST request.\n",
        "\n",
        "3. **Process and Respond**: Perform any necessary actions (e.g., storing data) and return a response, typically with a status code.\n",
        "\n",
        "\n"
      ],
      "metadata": {
        "id": "gShUbsqv9MYC"
      }
    },
    {
      "cell_type": "markdown",
      "source": [
        "21. How would you secure a Flask API ?"
      ],
      "metadata": {
        "id": "mQrcRshB9Yqj"
      }
    },
    {
      "cell_type": "markdown",
      "source": [
        "Ans:- To **secure a Flask API**, you can implement the following measures:\n",
        "\n",
        "1. **Authentication**:\n",
        "\n",
        "   * Use **JWT (JSON Web Tokens)** or **OAuth** to authenticate users.\n",
        "   * Secure routes by checking for valid tokens in request headers (e.g., `Authorization`).\n",
        "\n",
        "2. **Authorization**:\n",
        "\n",
        "   * Restrict access to certain routes based on user roles or permissions.\n",
        "\n",
        "3. **HTTPS**:\n",
        "\n",
        "   * Ensure your API is served over **HTTPS** to encrypt communication between client and server.\n",
        "\n",
        "4. **Input Validation**:\n",
        "\n",
        "   * Validate all incoming data to prevent **SQL injection**, **XSS**, and other attacks.\n",
        "\n",
        "5. **Rate Limiting**:\n",
        "\n",
        "   * Limit the number of requests per user or IP to prevent **DDoS** attacks.\n",
        "\n",
        "6. **CORS**:\n",
        "\n",
        "   * Use **CORS (Cross-Origin Resource Sharing)** to control which domains are allowed to access your API.\n",
        "\n"
      ],
      "metadata": {
        "id": "5Pa7_Xee9ehS"
      }
    },
    {
      "cell_type": "markdown",
      "source": [
        "22. What is the significance of the Flask-RESTful extension ?"
      ],
      "metadata": {
        "id": "jCakRa5W9oYa"
      }
    },
    {
      "cell_type": "markdown",
      "source": [
        "ANs:- **Flask-RESTful** is an extension for Flask that simplifies the creation of **RESTful APIs** by providing tools for organizing and handling HTTP requests in a structured way.\n",
        "\n",
        "### Significance:\n",
        "\n",
        "* **Simplifies API Creation**: It abstracts much of the boilerplate code required to build APIs, making it easier to handle resources and routes.\n",
        "* **Resource-Based Approach**: It introduces the concept of **Resources**, which map directly to routes and actions (GET, POST, PUT, DELETE), making your API more organized.\n",
        "* **Enhanced Request Handling**: It supports easy parsing of incoming data, request validation, and provides automatic response formatting.\n",
        "* **Integration with Flask**: It seamlessly integrates with Flask, allowing you to use Flask’s features while building RESTful APIs with less complexity.\n",
        "\n",
        "\n"
      ],
      "metadata": {
        "id": "iRDuFBx095E6"
      }
    },
    {
      "cell_type": "markdown",
      "source": [
        "23. What is the role of Flask’s session object?\n"
      ],
      "metadata": {
        "id": "CJlWexVj-BjS"
      }
    },
    {
      "cell_type": "markdown",
      "source": [
        "Ans:- Flask's **`session` object** is used to store data between requests for a specific user. It allows you to keep track of user-specific information across multiple requests, such as user authentication status or preferences.\n",
        "\n",
        "### Role of Flask's `session` object:\n",
        "\n",
        "1. **Stores Data Persistently**: The `session` object stores data that persists across requests, typically using a secure cookie on the client-side.\n",
        "2. **User-Specific Data**: It’s often used to track information related to a specific user, like login status, user preferences, or temporary data.\n",
        "3. **Security**: The data in the session is signed and encrypted by Flask, ensuring that it cannot be tampered with by the client.\n",
        "\n"
      ],
      "metadata": {
        "id": "PVkHah4Z-Gmh"
      }
    },
    {
      "cell_type": "markdown",
      "source": [
        "PRACTICAL QUESTION"
      ],
      "metadata": {
        "id": "2Xd4P8lm-O6a"
      }
    },
    {
      "cell_type": "markdown",
      "source": [
        "01. How do you create a basic Flask application ?"
      ],
      "metadata": {
        "id": "snVHo64w-W_Z"
      }
    },
    {
      "cell_type": "markdown",
      "source": [
        "Here's the code to create a basic Flask application:\n",
        "\n",
        "```python\n",
        "from flask import Flask\n",
        "\n",
        "app = Flask(__name__)  # Initialize the Flask app\n",
        "\n",
        "@app.route('/')  # Define a route for the home page\n",
        "def home():\n",
        "    return \"Hello, World!\"  # Response for the home route\n",
        "\n",
        "if __name__ == '__main__':\n",
        "    app.run(debug=True)  # Run the app with debugging enabled\n",
        "```\n",
        "\n",
        "### Steps:\n",
        "\n",
        "1. Install Flask with `pip install flask`.\n",
        "2. Create the `app.py` file and add the code above.\n",
        "3. Run the app using `python app.py`.\n",
        "4. Access the app by visiting `http://127.0.0.1:5000/` in your browser. You'll see \"Hello, World!\" displayed on the page.\n"
      ],
      "metadata": {
        "id": "Msa8UVPx-jmn"
      }
    },
    {
      "cell_type": "markdown",
      "source": [
        "02. How do you serve static files like images or CSS in Flask ?"
      ],
      "metadata": {
        "id": "ChvPD_Yh_PIx"
      }
    },
    {
      "cell_type": "markdown",
      "source": [
        "Ans:- from flask import Flask, render_template\n",
        "\n",
        "app = Flask(__name__)\n",
        "\n",
        "@app.route('/')\n",
        "def index():\n",
        "    return render_template('index.html')\n",
        "\n",
        "if __name__ == '__main__':\n",
        "    app.run(debug=True)\n"
      ],
      "metadata": {
        "id": "QjeumZlo_cBK"
      }
    },
    {
      "cell_type": "markdown",
      "source": [
        "03. How do you define different routes with different HTTP methods in Flask ?"
      ],
      "metadata": {
        "id": "2N1-CMTm_j3h"
      }
    },
    {
      "cell_type": "markdown",
      "source": [
        "Ans:- from flask import Flask, request, jsonify\n",
        "\n",
        "app = Flask(__name__)\n",
        "\n",
        "# GET request\n",
        "@app.route('/item', methods=['GET'])\n",
        "def get_item():\n",
        "    return jsonify({\"message\": \"GET request received\"})\n",
        "\n",
        "# POST request\n",
        "@app.route('/item', methods=['POST'])\n",
        "def create_item():\n",
        "    data = request.get_json()\n",
        "    return jsonify({\"message\": \"POST request received\", \"data\": data}), 201\n",
        "\n",
        "# PUT request\n",
        "@app.route('/item', methods=['PUT'])\n",
        "def update_item():\n",
        "    data = request.get_json()\n",
        "    return jsonify({\"message\": \"PUT request received\", \"data\": data})\n",
        "\n",
        "# DELETE request\n",
        "@app.route('/item', methods=['DELETE'])\n",
        "def delete_item():\n",
        "    return jsonify({\"message\": \"DELETE request received\"}), 204\n",
        "\n",
        "if __name__ == '__main__':\n",
        "    app.run(debug=True)\n"
      ],
      "metadata": {
        "id": "yvN9VCRB_vNK"
      }
    },
    {
      "cell_type": "markdown",
      "source": [
        "04. How do you render HTML templates in Flask >?"
      ],
      "metadata": {
        "id": "9WHh2pzr_03Q"
      }
    },
    {
      "cell_type": "markdown",
      "source": [
        "ANs:- <!DOCTYPE html>\n",
        "<html lang=\"en\">\n",
        "<head>\n",
        "    <meta charset=\"UTF-8\">\n",
        "    <meta name=\"viewport\" content=\"width=device-width, initial-scale=1.0\">\n",
        "    <title>Flask Template Example</title>\n",
        "</head>\n",
        "<body>\n",
        "    <h1>Hello, {{ name }}!</h1>\n",
        "    <p>Welcome to my Flask app.</p>\n",
        "</body>\n",
        "</html>\n"
      ],
      "metadata": {
        "id": "_28d_RGr_6Dg"
      }
    },
    {
      "cell_type": "markdown",
      "source": [
        "05. How can you generate URLs for routes in Flask using url_for ?"
      ],
      "metadata": {
        "id": "5aFScYjKADln"
      }
    },
    {
      "cell_type": "markdown",
      "source": [
        "ANs;- from flask import Flask, url_for, render_template\n",
        "\n",
        "app = Flask(__name__)\n",
        "\n",
        "@app.route('/')\n",
        "def home():\n",
        "    return \"Welcome to the Home Page!\"\n",
        "\n",
        "@app.route('/profile/<username>')\n",
        "def profile(username):\n",
        "    return f\"Profile page of {username}\"\n",
        "\n",
        "if __name__ == '__main__':\n",
        "    app.run(debug=True)\n"
      ],
      "metadata": {
        "id": "8PM0oIgIAl9P"
      }
    },
    {
      "cell_type": "markdown",
      "source": [
        "06. How do you handle forms in Flask ?"
      ],
      "metadata": {
        "id": "4j2U-KwpAxb3"
      }
    },
    {
      "cell_type": "markdown",
      "source": [
        "Ans;- from flask import Flask, render_template, request, redirect, url_for\n",
        "\n",
        "app = Flask(__name__)\n",
        "\n",
        "@app.route('/')\n",
        "def home():\n",
        "    return render_template('form.html')  # Render the form template\n",
        "\n",
        "@app.route('/submit', methods=['POST'])\n",
        "def submit():\n",
        "    # Get data from the form\n",
        "    name = request.form['name']\n",
        "    email = request.form['email']\n",
        "\n",
        "    # Process the form data (e.g., store in a database, send an email, etc.)\n",
        "    # For demonstration, we'll just print it\n",
        "    print(f\"Name: {name}, Email: {email}\")\n",
        "\n",
        "    # Redirect to a confirmation page or display a success message\n",
        "    return redirect(url_for('thank_you'))\n",
        "\n",
        "@app.route('/thank_you')\n",
        "def thank_you():\n",
        "    return \"Thank you for your submission!\"\n",
        "\n",
        "if __name__ == '__main__':\n",
        "    app.run(debug=True)\n"
      ],
      "metadata": {
        "id": "WxvXeLakA84J"
      }
    },
    {
      "cell_type": "markdown",
      "source": [
        "07.  How can you validate form data in Flask >?"
      ],
      "metadata": {
        "id": "ArNv2786BAWn"
      }
    },
    {
      "cell_type": "markdown",
      "source": [
        "Ans:- from flask import Flask, render_template, request, flash, redirect, url_for\n",
        "\n",
        "app = Flask(__name__)\n",
        "app.secret_key = 'your_secret_key'  # Required for flashing messages\n",
        "\n",
        "@app.route('/', methods=['GET', 'POST'])\n",
        "def home():\n",
        "    if request.method == 'POST':\n",
        "        # Retrieve form data\n",
        "        name = request.form['name']\n",
        "        email = request.form['email']\n",
        "\n",
        "        # Validate form data\n",
        "        if not name or not email:\n",
        "            flash('Name and Email are required!', 'error')\n",
        "            return redirect(url_for('home'))\n",
        "        \n",
        "        # Simple email format validation\n",
        "        if '@' not in email:\n",
        "            flash('Invalid email address!', 'error')\n",
        "            return redirect(url_for('home'))\n",
        "        \n",
        "        # If data is valid, process it (e.g., save to DB, send email, etc.)\n",
        "        flash('Form submitted successfully!', 'success')\n",
        "        return redirect(url_for('thank_you'))\n",
        "\n",
        "    return render_template('form.html')\n",
        "\n",
        "@app.route('/thank_you')\n",
        "def thank_you():\n",
        "    return \"Thank you for your submission!\"\n",
        "\n",
        "if __name__ == '__main__':\n",
        "    app.run(debug=True)\n"
      ],
      "metadata": {
        "id": "EOewKWAFBHH3"
      }
    },
    {
      "cell_type": "markdown",
      "source": [
        "08. How do you manage sessions in Flask ?"
      ],
      "metadata": {
        "id": "JKl2dBLqBP6e"
      }
    },
    {
      "cell_type": "markdown",
      "source": [
        "Ans:- from flask import Flask, session, redirect, url_for, request\n",
        "\n",
        "app = Flask(__name__)\n",
        "\n",
        "# Set a secret key for session signing\n",
        "app.secret_key = 'your_secret_key'\n",
        "\n",
        "@app.route('/')\n",
        "def home():\n",
        "    # Get the current session variable (if exists), or set default\n",
        "    username = session.get('username', None)\n",
        "    \n",
        "    if username:\n",
        "        return f'Hello, {username}!'\n",
        "    else:\n",
        "        return 'You are not logged in.'\n",
        "\n",
        "@app.route('/login', methods=['GET', 'POST'])\n",
        "def login():\n",
        "    if request.method == 'POST':\n",
        "        # Set session data after successful login\n",
        "        session['username'] = request.form['username']\n",
        "        return redirect(url_for('home'))\n",
        "    \n",
        "    return '''\n",
        "        <form method=\"POST\">\n",
        "            Username: <input type=\"text\" name=\"username\">\n",
        "            <button type=\"submit\">Login</button>\n",
        "        </form>\n",
        "    '''\n",
        "\n",
        "@app.route('/logout')\n",
        "def logout():\n",
        "    # Clear the session data when the user logs out\n",
        "    session.pop('username', None)\n",
        "    return redirect(url_for('home'))\n",
        "\n",
        "if __name__ == '__main__':\n",
        "    app.run(debug=True)\n"
      ],
      "metadata": {
        "id": "YxTDQIcgBW8u"
      }
    },
    {
      "cell_type": "markdown",
      "source": [
        "09. How do you redirect to a different route in Flask ?"
      ],
      "metadata": {
        "id": "ze9NimcNBiOF"
      }
    },
    {
      "cell_type": "markdown",
      "source": [
        "Ans:- from flask import Flask, redirect, url_for\n",
        "\n",
        "app = Flask(__name__)\n",
        "\n",
        "@app.route('/')\n",
        "def home():\n",
        "    return 'Welcome to the Home Page!'\n",
        "\n",
        "@app.route('/about')\n",
        "def about():\n",
        "    return 'This is the About Page.'\n",
        "\n",
        "@app.route('/redirect_example')\n",
        "def redirect_example():\n",
        "    # Redirecting to the home page\n",
        "    return redirect(url_for('home'))\n",
        "\n",
        "@app.route('/redirect_to_about')\n",
        "def redirect_to_about():\n",
        "    # Redirecting to the about page\n",
        "    return redirect(url_for('about'))\n",
        "\n",
        "if __name__ == '__main__':\n",
        "    app.run(debug=True)\n"
      ],
      "metadata": {
        "id": "merou0wzBnyu"
      }
    },
    {
      "cell_type": "markdown",
      "source": [
        "10.  How do you handle errors in Flask (e.g., 404)"
      ],
      "metadata": {
        "id": "s19FfoZ4B1eP"
      }
    },
    {
      "cell_type": "markdown",
      "source": [
        "Ans:- from flask import Flask, render_template\n",
        "\n",
        "app = Flask(__name__)\n",
        "\n",
        "@app.route('/')\n",
        "def home():\n",
        "    return \"Welcome to the Home Page!\"\n",
        "\n",
        "@app.route('/about')\n",
        "def about():\n",
        "    return \"This is the About Page.\"\n",
        "\n",
        "# Error Handler for 404 - Page Not Found\n",
        "@app.errorhandler(404)\n",
        "def page_not_found(error):\n",
        "    # Custom error page or response\n",
        "    return render_template('404.html'), 404\n",
        "\n",
        "# Error Handler for 500 - Internal Server Error\n",
        "@app.errorhandler(500)\n",
        "def internal_server_error(error):\n",
        "    # Custom error page or response\n",
        "    return \"Something went wrong! Please try again later.\", 500\n",
        "\n",
        "if __name__ == '__main__':\n",
        "    app.run(debug=True)\n"
      ],
      "metadata": {
        "id": "7oMvfSzxCAnX"
      }
    },
    {
      "cell_type": "markdown",
      "source": [
        "11.  How do you structure a Flask app using Blueprints ?"
      ],
      "metadata": {
        "id": "vDbiFkZVCKI3"
      }
    },
    {
      "cell_type": "markdown",
      "source": [
        "Ans:- In Flask, **Blueprints** provide a way to structure your application into modular components, making it easier to organize and manage large applications. Each blueprint can define its own routes, views, templates, and static files. Blueprints help break down a Flask app into smaller, reusable parts (like modules), which can be registered to the main Flask app.\n",
        "\n",
        "### Benefits of Using Blueprints:\n",
        "\n",
        "* **Modularity**: Organizes your application into distinct modules (e.g., user management, authentication, blog, etc.).\n",
        "* **Reusability**: Blueprints can be reused across different projects.\n",
        "* **Separation of Concerns**: Helps separate different concerns of an app (e.g., admin, API, public-facing routes).\n",
        "\n",
        "### Structure of a Flask App Using Blueprints\n",
        "\n",
        "A typical Flask project with blueprints might look like this:\n",
        "\n",
        "```\n",
        "/flask_app\n",
        "    /app\n",
        "        /auth\n",
        "            __init__.py\n",
        "            routes.py\n",
        "            forms.py\n",
        "        /main\n",
        "            __init__.py\n",
        "            routes.py\n",
        "        __init__.py\n",
        "    /templates\n",
        "        /auth\n",
        "            login.html\n",
        "        /main\n",
        "            index.html\n",
        "    /static\n",
        "        /css\n",
        "        /js\n",
        "    config.py\n",
        "    run.py\n",
        "```\n",
        "\n",
        "### Steps to Structure a Flask App with Blueprints:\n",
        "\n",
        "1. **Create Blueprints**: Define blueprints in separate files (e.g., in the `auth` or `main` folders).\n",
        "2. **Register Blueprints**: Register blueprints in the main `app/__init__.py`.\n",
        "3. **Define Routes**: Define routes inside each blueprint.\n",
        "\n",
        "### Example: Structuring a Flask App with Blueprints\n",
        "\n",
        "#### 1. **Main Application (`app/__init__.py`)**:\n",
        "\n",
        "This is where the Flask app is initialized and blueprints are registered.\n",
        "\n",
        "```python\n",
        "from flask import Flask\n",
        "from .auth import auth_blueprint\n",
        "from .main import main_blueprint\n",
        "\n",
        "def create_app():\n",
        "    app = Flask(__name__)\n",
        "    app.config.from_object('config.Config')\n",
        "\n",
        "    # Register blueprints\n",
        "    app.register_blueprint(auth_blueprint, url_prefix='/auth')\n",
        "    app.register_blueprint(main_blueprint, url_prefix='/')\n",
        "\n",
        "    return app\n",
        "```\n",
        "\n",
        "#### 2. **Auth Blueprint (`app/auth/routes.py`)**:\n",
        "\n",
        "Define routes related to authentication (e.g., login, signup).\n",
        "\n",
        "```python\n",
        "from flask import Blueprint, render_template\n",
        "\n",
        "auth_blueprint = Blueprint('auth', __name__)\n",
        "\n",
        "@auth_blueprint.route('/login')\n",
        "def login():\n",
        "    return render_template('auth/login.html')\n",
        "\n",
        "@auth_blueprint.route('/signup')\n",
        "def signup():\n",
        "    return render_template('auth/signup.html')\n",
        "```\n",
        "\n",
        "#### 3. **Main Blueprint (`app/main/routes.py`)**:\n",
        "\n",
        "Define general routes for the main part of the application.\n",
        "\n",
        "```python\n",
        "from flask import Blueprint, render_template\n",
        "\n",
        "main_blueprint = Blueprint('main', __name__)\n",
        "\n",
        "@main_blueprint.route('/')\n",
        "def index():\n",
        "    return render_template('main/index.html')\n",
        "```\n",
        "\n",
        "#### 4. **Main Entry Point (`run.py`)**:\n",
        "\n",
        "This file is the entry point of your Flask app. It initializes and runs the application.\n",
        "\n",
        "```python\n",
        "from app import create_app\n",
        "\n",
        "app = create_app()\n",
        "\n",
        "if __name__ == '__main__':\n",
        "    app.run(debug=True)\n",
        "```\n",
        "\n",
        "#### 5. **Templates**:\n",
        "\n",
        "Each blueprint can have its own template directory. For example:\n",
        "\n",
        "* **auth/login.html** (for the login route)\n",
        "* **main/index.html** (for the home route)\n",
        "\n",
        "For example, `auth/login.html` might look like this:\n",
        "\n",
        "```html\n",
        "<!DOCTYPE html>\n",
        "<html lang=\"en\">\n",
        "<head>\n",
        "    <meta charset=\"UTF-8\">\n",
        "    <meta name=\"viewport\" content=\"width=device-width, initial-scale=1.0\">\n",
        "    <title>Login</title>\n",
        "</head>\n",
        "<body>\n",
        "    <h1>Login Page</h1>\n",
        "    <form method=\"POST\">\n",
        "        <!-- Form fields here -->\n",
        "        <button type=\"submit\">Login</button>\n",
        "    </form>\n",
        "</body>\n",
        "</html>\n",
        "```\n",
        "\n",
        "#### 6. **Static Files**:\n",
        "\n",
        "You can organize static files by blueprint as well. For example:\n",
        "\n",
        "* Static files related to authentication (e.g., styles, images) can go into `app/static/auth/`.\n",
        "* Static files for the main app can go into `app/static/main/`.\n",
        "\n",
        "### Explanation of Key Components:\n",
        "\n",
        "1. **Blueprint Creation**:\n",
        "\n",
        "   * A blueprint is created using the `Blueprint` class from `flask`.\n",
        "   * It requires two arguments: the name of the blueprint and the module or package the blueprint belongs to.\n",
        "\n",
        "   ```python\n",
        "   auth_blueprint = Blueprint('auth', __name__)\n",
        "   ```\n",
        "\n",
        "2. **Registering Blueprints**:\n",
        "\n",
        "   * The blueprint is registered with the Flask application object using `app.register_blueprint()`.\n",
        "   * You can optionally add a `url_prefix` to group all routes of the blueprint under a common URL prefix.\n",
        "\n",
        "   ```python\n",
        "   app.register_blueprint(auth_blueprint, url_prefix='/auth')\n",
        "   ```\n",
        "\n",
        "3. **Routing in Blueprints**:\n",
        "\n",
        "   * The routes are defined just like they are in the main Flask app, but they are associated with a blueprint.\n",
        "   * These routes are then accessible based on the blueprint and the prefix defined during registration.\n",
        "\n",
        "4. **Template Organization**:\n",
        "\n",
        "   * You can organize your templates by blueprint. For example, `auth/login.html` for the `auth` blueprint.\n",
        "   * Flask will automatically look for templates in the blueprint’s directory.\n",
        "\n",
        "5. **Static File Management**:\n",
        "\n",
        "   * Like templates, you can organize static files (CSS, JS, images) within each blueprint.\n",
        "   * Flask will automatically serve static files from each blueprint's `static` folder.\n",
        "\n"
      ],
      "metadata": {
        "id": "hEITM492CEf9"
      }
    },
    {
      "cell_type": "markdown",
      "source": [
        "12.  How do you define a custom Jinja filter in Flask ?"
      ],
      "metadata": {
        "id": "6-XYL06iCdlN"
      }
    },
    {
      "cell_type": "markdown",
      "source": [
        "Ans:- In Flask, you can define custom **Jinja filters** to manipulate data within templates. Jinja filters are used to modify or format variables in your templates before they are displayed to the user. Flask allows you to define your own custom filters to add functionality to your templates.\n",
        "\n",
        "### Steps to Define a Custom Jinja Filter in Flask:\n",
        "\n",
        "1. **Create the Custom Filter Function**: Define a Python function that performs the desired operation on the input.\n",
        "2. **Register the Custom Filter**: Use the `app.jinja_filter()` decorator or `app.add_template_filter()` method to register the filter with the Flask application.\n",
        "3. **Use the Custom Filter in Templates**: Once registered, you can use the custom filter in Jinja templates just like built-in filters.\n",
        "\n",
        "### Example of Creating and Using a Custom Jinja Filter:\n",
        "\n",
        "#### 1. **Define the Custom Filter Function**:\n",
        "\n",
        "For example, let's define a custom filter that capitalizes the first letter of each word in a string (like a title).\n",
        "\n",
        "```python\n",
        "from flask import Flask\n",
        "\n",
        "app = Flask(__name__)\n",
        "\n",
        "# Step 1: Create the custom filter function\n",
        "def title_case(value):\n",
        "    \"\"\"Converts a string to title case.\"\"\"\n",
        "    return value.title()  # Built-in title() function capitalizes first letter of each word\n",
        "\n",
        "# Step 2: Register the custom filter with Flask\n",
        "app.add_template_filter(title_case, 'title_case')\n",
        "```\n",
        "\n",
        "#### 2. **Use the Custom Filter in Templates**:\n",
        "\n",
        "Now, you can use this custom filter in your Jinja templates. For example, suppose you have a template called `index.html`.\n",
        "\n",
        "```html\n",
        "<!DOCTYPE html>\n",
        "<html lang=\"en\">\n",
        "<head>\n",
        "    <meta charset=\"UTF-8\">\n",
        "    <meta name=\"viewport\" content=\"width=device-width, initial-scale=1.0\">\n",
        "    <title>Custom Jinja Filter Example</title>\n",
        "</head>\n",
        "<body>\n",
        "    <h1>{{ \"hello world from flask\" | title_case }}</h1>\n",
        "</body>\n",
        "</html>\n",
        "```\n",
        "\n",
        "In this example, the string `\"hello world from flask\"` will be converted to title case (`\"Hello World From Flask\"`) when rendered.\n",
        "\n",
        "#### 3. **Running the Flask Application**:\n",
        "\n",
        "The Flask application can be run as follows:\n",
        "\n",
        "```python\n",
        "if __name__ == '__main__':\n",
        "    app.run(debug=True)\n",
        "```\n",
        "\n",
        "### Key Points:\n",
        "\n",
        "* **Creating the Filter**: The filter function must take one argument (the value to be filtered) and return the modified value.\n",
        "* **Registering the Filter**: Use `app.add_template_filter()` to register your custom filter. You can give the filter a custom name (e.g., `title_case`) to use in the template.\n",
        "* **Using the Filter in Jinja Templates**: Apply the custom filter using the `|` (pipe) symbol, followed by the filter name (e.g., `{{ \"string\" | title_case }}`).\n",
        "\n",
        "### Example of Another Custom Filter (Date Formatting):\n",
        "\n",
        "If you wanted to create a filter that formats a date string, you could do the following:\n",
        "\n",
        "#### 1. **Define a Date Formatting Filter**:\n",
        "\n",
        "```python\n",
        "from flask import Flask\n",
        "from datetime import datetime\n",
        "\n",
        "app = Flask(__name__)\n",
        "\n",
        "# Step 1: Create the custom filter function\n",
        "def format_date(value):\n",
        "    \"\"\"Formats a datetime object to 'YYYY-MM-DD' format.\"\"\"\n",
        "    if isinstance(value, datetime):\n",
        "        return value.strftime('%Y-%m-%d')\n",
        "    return value\n",
        "\n",
        "# Step 2: Register the custom filter\n",
        "app.add_template_filter(format_date, 'format_date')\n",
        "```\n",
        "\n",
        "#### 2. **Use the Date Formatting Filter in a Template**:\n",
        "\n",
        "```html\n",
        "<!DOCTYPE html>\n",
        "<html lang=\"en\">\n",
        "<head>\n",
        "    <meta charset=\"UTF-8\">\n",
        "    <meta name=\"viewport\" content=\"width=device-width, initial-scale=1.0\">\n",
        "    <title>Custom Jinja Filter Example</title>\n",
        "</head>\n",
        "<body>\n",
        "    <h1>{{ current_time | format_date }}</h1>\n",
        "</body>\n",
        "</html>\n",
        "```\n",
        "\n",
        "Where `current_time` is a `datetime` object passed to the template from the view function.\n",
        "\n",
        "#### 3. **Flask View Function**:\n",
        "\n",
        "```python\n",
        "from datetime import datetime\n",
        "from flask import render_template\n",
        "\n",
        "@app.route('/')\n",
        "def home():\n",
        "    current_time = datetime.now()  # Get current datetime\n",
        "    return render_template('index.html', current_time=current_time)\n",
        "```\n",
        "\n",
        "### Conclusion:\n",
        "\n",
        "* **Custom Jinja filters** allow you to add custom data processing or formatting logic to your Flask templates.\n",
        "* Use `app.add_template_filter()` to register a filter and then use it in templates with the `|` (pipe) syntax.\n",
        "* Custom filters enhance flexibility and functionality in your Flask templates by enabling specific transformations on data before rendering.\n"
      ],
      "metadata": {
        "id": "IFYpv6E_Cm-V"
      }
    },
    {
      "cell_type": "markdown",
      "source": [
        "13.  How can you redirect with query parameters in Flask ?"
      ],
      "metadata": {
        "id": "P08-X94CCwBt"
      }
    },
    {
      "cell_type": "markdown",
      "source": [
        "Ans:- In Flask, you can redirect to another route and include **query parameters** in the URL using the `redirect()` function and the `url_for()` function. This allows you to pass additional data or filters to the destination route via the URL.\n",
        "\n",
        "### Steps to Redirect with Query Parameters in Flask:\n",
        "\n",
        "1. **Use `url_for()` to generate the URL with query parameters**.\n",
        "2. **Pass the generated URL to `redirect()`**.\n",
        "\n",
        "### Example: Redirecting with Query Parameters in Flask\n",
        "\n",
        "#### 1. **Flask App Code (`app.py`)**:\n",
        "\n",
        "```python\n",
        "from flask import Flask, redirect, url_for\n",
        "\n",
        "app = Flask(__name__)\n",
        "\n",
        "@app.route('/')\n",
        "def home():\n",
        "    return 'Welcome to the Home Page!'\n",
        "\n",
        "@app.route('/search')\n",
        "def search():\n",
        "    # Retrieve the query parameter 'query' from the URL\n",
        "    query = request.args.get('query', '')\n",
        "    return f'Search results for: {query}'\n",
        "\n",
        "@app.route('/redirect_to_search')\n",
        "def redirect_to_search():\n",
        "    # Redirect to the search route with a query parameter\n",
        "    return redirect(url_for('search', query='Flask'))\n",
        "\n",
        "if __name__ == '__main__':\n",
        "    app.run(debug=True)\n",
        "```\n",
        "\n",
        "#### 2. **Explanation**:\n",
        "\n",
        "* **`url_for('search', query='Flask')`**: This generates the URL for the `search` route, with a query parameter `query=Flask`. It could be any value or dynamically set.\n",
        "* **`redirect(url_for('search', query='Flask'))`**: This sends the user to the `search` route with the query parameter `query=Flask`.\n",
        "\n",
        "#### 3. **How It Works**:\n",
        "\n",
        "* When the user visits the `/redirect_to_search` route, Flask will redirect them to the `/search?query=Flask` route.\n",
        "* The `search` route will retrieve the `query` parameter using `request.args.get('query')`, and display the message `Search results for: Flask`.\n",
        "\n",
        "### More Complex Example with Dynamic Query Parameters:\n",
        "\n",
        "You can also include multiple query parameters in the URL.\n",
        "\n",
        "#### Example:\n",
        "\n",
        "```python\n",
        "from flask import Flask, redirect, url_for, request\n",
        "\n",
        "app = Flask(__name__)\n",
        "\n",
        "@app.route('/profile')\n",
        "def profile():\n",
        "    # Retrieving multiple query parameters\n",
        "    username = request.args.get('username')\n",
        "    age = request.args.get('age')\n",
        "    return f'Profile of {username}, Age: {age}'\n",
        "\n",
        "@app.route('/redirect_to_profile')\n",
        "def redirect_to_profile():\n",
        "    # Redirect to the profile page with query parameters\n",
        "    return redirect(url_for('profile', username='JohnDoe', age=30))\n",
        "\n",
        "if __name__ == '__main__':\n",
        "    app.run(debug=True)\n",
        "```\n",
        "\n",
        "#### Explanation:\n",
        "\n",
        "* **`url_for('profile', username='JohnDoe', age=30)`**: This generates the URL for the `profile` route with two query parameters: `username=JohnDoe` and `age=30`.\n",
        "* **`redirect(url_for('profile', username='JohnDoe', age=30))`**: This redirects to `/profile?username=JohnDoe&age=30`.\n",
        "\n",
        "### Conclusion:\n",
        "\n",
        "* You can use `url_for()` to generate URLs with query parameters, and `redirect()` to redirect the user to those URLs.\n",
        "* Query parameters are passed as keyword arguments to `url_for()` and can be accessed in the target route via `request.args.get()`.\n"
      ],
      "metadata": {
        "id": "tCK1KmyGC2a1"
      }
    },
    {
      "cell_type": "markdown",
      "source": [
        "14. How do you return JSON responses in Flask ?"
      ],
      "metadata": {
        "id": "-1YLzXvcC9dk"
      }
    },
    {
      "cell_type": "markdown",
      "source": [
        "Ans;- In Flask, you can return **JSON responses** using the `jsonify()` function, which formats data into JSON and sets the correct content type (`application/json`) for the response. This is commonly used when building APIs to return data to the client in JSON format.\n",
        "\n",
        "### Steps to Return JSON Responses in Flask:\n",
        "\n",
        "1. **Create a Python dictionary or list** containing the data you want to return as JSON.\n",
        "2. **Use `jsonify()` to convert the data into a JSON response**.\n",
        "3. **Return the JSON response** from your route.\n",
        "\n",
        "### Example of Returning JSON Responses in Flask:\n",
        "\n",
        "#### 1. **Flask App Code (`app.py`)**:\n",
        "\n",
        "```python\n",
        "from flask import Flask, jsonify\n",
        "\n",
        "app = Flask(__name__)\n",
        "\n",
        "@app.route('/api/data')\n",
        "def get_data():\n",
        "    # Create some data to return as JSON\n",
        "    data = {\n",
        "        \"name\": \"John Doe\",\n",
        "        \"age\": 30,\n",
        "        \"city\": \"New York\"\n",
        "    }\n",
        "    \n",
        "    # Use jsonify to return the data as a JSON response\n",
        "    return jsonify(data)\n",
        "\n",
        "if __name__ == '__main__':\n",
        "    app.run(debug=True)\n",
        "```\n",
        "\n",
        "#### 2. **Explanation**:\n",
        "\n",
        "* **`jsonify(data)`**: This function converts the Python dictionary (`data`) into a JSON response.\n",
        "* **Content-Type**: `jsonify()` automatically sets the `Content-Type` header to `application/json`.\n",
        "* **Return JSON**: When you visit `/api/data`, Flask will respond with the JSON data `{\"name\": \"John Doe\", \"age\": 30, \"city\": \"New York\"}`.\n",
        "\n",
        "#### 3. **Sample Output**:\n",
        "\n",
        "When you access `/api/data`, the output will be:\n",
        "\n",
        "```json\n",
        "{\n",
        "  \"name\": \"John Doe\",\n",
        "  \"age\": 30,\n",
        "  \"city\": \"New York\"\n",
        "}\n",
        "```\n",
        "\n",
        "### Returning JSON with Status Codes:\n",
        "\n",
        "You can also return a JSON response along with an HTTP status code. For example, you might want to return a **201 Created** status when creating a new resource.\n",
        "\n",
        "```python\n",
        "@app.route('/api/create', methods=['POST'])\n",
        "def create_item():\n",
        "    # Example of data being posted (this could be extracted from a form or JSON request)\n",
        "    new_item = {\n",
        "        \"item_name\": \"Laptop\",\n",
        "        \"item_price\": 1200\n",
        "    }\n",
        "    \n",
        "    # Returning the JSON response with a 201 status code\n",
        "    return jsonify(new_item), 201\n",
        "```\n",
        "\n",
        "#### 4. **Custom JSON Response with Status Code**:\n",
        "\n",
        "The second parameter to `jsonify()` is the HTTP status code. In this case, `201` signifies that a resource was successfully created.\n",
        "\n",
        "### Handling Errors with JSON:\n",
        "\n",
        "You can also return error messages in JSON format when things go wrong (e.g., a 400 Bad Request).\n",
        "\n",
        "```python\n",
        "@app.route('/api/error')\n",
        "def error_example():\n",
        "    # Returning a JSON response with an error message and a 400 status code\n",
        "    return jsonify({\"error\": \"Bad Request\", \"message\": \"Invalid input.\"}), 400\n",
        "```\n",
        "\n",
        "### Example Output for Error:\n",
        "\n",
        "```json\n",
        "{\n",
        "  \"error\": \"Bad Request\",\n",
        "  \"message\": \"Invalid input.\"\n",
        "}\n",
        "```\n",
        "\n",
        "### Conclusion:\n",
        "\n",
        "* Use `jsonify()` to convert Python data (like dictionaries or lists) into JSON format and return it in the response.\n",
        "* You can return JSON with a custom status code by including it as the second return value, like `return jsonify(data), 201`.\n",
        "* Flask automatically sets the correct `Content-Type` for JSON responses, which is `application/json`.\n"
      ],
      "metadata": {
        "id": "VEqdZoo0DFTF"
      }
    },
    {
      "cell_type": "markdown",
      "source": [
        "15. How do you capture URL parameters in Flask ?"
      ],
      "metadata": {
        "id": "RFoZie-uDPvd"
      }
    },
    {
      "cell_type": "markdown",
      "source": [
        "Ans;- In Flask, you can capture URL parameters using route parameters (also called **URL variables**). These parameters are specified in the route definition, and Flask automatically passes them to your view function as arguments.\n",
        "\n",
        "### Steps to Capture URL Parameters in Flask:\n",
        "\n",
        "1. **Define the route with URL parameters**.\n",
        "2. **Capture the parameters in the view function** by including them as function arguments.\n",
        "\n",
        "### Example of Capturing URL Parameters in Flask:\n",
        "\n",
        "#### 1. **Flask App Code (`app.py`)**:\n",
        "\n",
        "```python\n",
        "from flask import Flask\n",
        "\n",
        "app = Flask(__name__)\n",
        "\n",
        "# Route with a URL parameter 'username'\n",
        "@app.route('/user/<username>')\n",
        "def show_user(username):\n",
        "    # Capture the 'username' URL parameter\n",
        "    return f'Hello, {username}!'\n",
        "\n",
        "# Route with multiple URL parameters\n",
        "@app.route('/post/<int:post_id>')\n",
        "def show_post(post_id):\n",
        "    # Capture the 'post_id' URL parameter as an integer\n",
        "    return f'Post ID is {post_id}'\n",
        "\n",
        "if __name__ == '__main__':\n",
        "    app.run(debug=True)\n",
        "```\n",
        "\n",
        "#### 2. **Explanation**:\n",
        "\n",
        "* **Capturing Parameters**: In the route `/user/<username>`, `username` is a URL parameter. The value of `username` from the URL will be passed to the `show_user()` function.\n",
        "\n",
        "* **Variable Types**: You can specify types for URL parameters. For example, `<int:post_id>` ensures that the `post_id` parameter is an integer. If the parameter isn't an integer, Flask will return a 404 error.\n",
        "\n",
        "#### 3. **Example URLs**:\n",
        "\n",
        "* Accessing `/user/john` will capture `\"john\"` as the `username` and display:\n",
        "\n",
        "  ```\n",
        "  Hello, john!\n",
        "  ```\n",
        "\n",
        "* Accessing `/post/123` will capture `123` as the `post_id` and display:\n",
        "\n",
        "  ```\n",
        "  Post ID is 123\n",
        "  ```\n",
        "\n",
        "### Capturing Multiple Parameters:\n",
        "\n",
        "You can capture multiple parameters in a route. For example:\n",
        "\n",
        "```python\n",
        "@app.route('/user/<username>/post/<int:post_id>')\n",
        "def show_user_post(username, post_id):\n",
        "    return f'User: {username}, Post ID: {post_id}'\n",
        "```\n",
        "\n",
        "Accessing `/user/john/post/123` will display:\n",
        "\n",
        "```\n",
        "User: john, Post ID: 123\n",
        "```\n",
        "\n",
        "### URL Parameter Types:\n",
        "\n",
        "Flask allows you to specify different types of parameters to capture:\n",
        "\n",
        "* **string (default)**: Captures a string (e.g., `<string:parameter>`).\n",
        "* **int**: Captures an integer (e.g., `<int:parameter>`).\n",
        "* **float**: Captures a float (e.g., `<float:parameter>`).\n",
        "* **path**: Captures a string, including slashes (`/`), which is useful for file paths (e.g., `<path:parameter>`).\n",
        "\n",
        "### Example with Different Parameter Types:\n",
        "\n",
        "```python\n",
        "@app.route('/product/<int:product_id>')\n",
        "def product(product_id):\n",
        "    return f'Product ID is {product_id}'\n",
        "\n",
        "@app.route('/category/<string:category_name>')\n",
        "def category(category_name):\n",
        "    return f'Category Name is {category_name}'\n",
        "\n",
        "@app.route('/file/<path:filename>')\n",
        "def file(filename):\n",
        "    return f'File Name is {filename}'\n",
        "```\n",
        "\n",
        "#### 4. **Accessing these routes**:\n",
        "\n",
        "* `/product/42` will capture `42` as an integer `product_id`.\n",
        "* `/category/books` will capture `books` as a string `category_name`.\n",
        "* `/file/images/photo.jpg` will capture `images/photo.jpg` as a `filename`.\n",
        "\n",
        "### Conclusion:\n",
        "\n",
        "* To capture URL parameters in Flask, you define them in the route using the `<parameter_name>` syntax.\n",
        "* Flask automatically passes these parameters to the view function.\n",
        "* You can specify the types of parameters (e.g., `int`, `string`, `float`, `path`) to enforce certain data formats in the URL.\n"
      ],
      "metadata": {
        "id": "hcVDP6UkDWRM"
      }
    },
    {
      "cell_type": "code",
      "source": [],
      "metadata": {
        "id": "CDXBxP0CDfNl"
      },
      "execution_count": null,
      "outputs": []
    }
  ]
}